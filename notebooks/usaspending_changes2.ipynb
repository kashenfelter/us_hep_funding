{
 "cells": [
  {
   "cell_type": "markdown",
   "metadata": {},
   "source": [
    "DOE Grants:\n",
    "fundingrequestingofficeid -> funding_office_name\n",
    "contractingofficeid       -> awarding_office_name\n",
    "dollarsobligated          -> federal_action_obligation\n"
   ]
  },
  {
   "cell_type": "markdown",
   "metadata": {},
   "source": [
    "## Strategy\n",
    "Every year, would need to download a very specific set of files (updated grants/contracts from each year). What if I downloaded the complete dataset every year? Would be really big, but could serve from an Amazon server and practice my cloud skills. Yeah, it's over 1TB...\n",
    "\n",
    "Simpler/cheaper option would be to use the USASpending API directly, now that (hopefully!) they won't be changing it anymore. Then every year to update, need to make a specific API call to refresh the DOE/NSF data only, then proceed as usual.\n",
    "\n",
    "I should just switch to all new datasets -- keeping two sets of code (one for new and one for legacy data) is going to be too complicated. Even if there are differences (I've shown that the recipients are fairly overlapping, at least), it's the public data that is available so I should just go with it.\n",
    "So I need to:\n",
    "* Create a method that performs a USASpending API call to get last N years of DOE/NSF grants+contracts.\n",
    "* Update cleaning methods to use new variable names for each type of \n",
    "* Add this data into a database (key = district code)\n",
    "* Work with Justin to integrate this data into WHIPS database/rendering system.\n",
    "\n",
    "## SULI Student strategy\n",
    "Using the hardcoded address table with fuzzy matching didn't work (all SUNY schools mapped to one address!). Need to find an open-source replacement for the Google Places API, or re-read their terms to see if cacheing the lat/lons, getting the cong. districts from geocodio, and then deleting the lat/lons is in agreement with their terms."
   ]
  },
  {
   "cell_type": "code",
   "execution_count": null,
   "metadata": {},
   "outputs": [],
   "source": []
  }
 ],
 "metadata": {
  "kernelspec": {
   "display_name": "Python 2",
   "language": "python",
   "name": "python2"
  },
  "language_info": {
   "codemirror_mode": {
    "name": "ipython",
    "version": 2
   },
   "file_extension": ".py",
   "mimetype": "text/x-python",
   "name": "python",
   "nbconvert_exporter": "python",
   "pygments_lexer": "ipython2",
   "version": "2.7.3"
  }
 },
 "nbformat": 4,
 "nbformat_minor": 2
}
