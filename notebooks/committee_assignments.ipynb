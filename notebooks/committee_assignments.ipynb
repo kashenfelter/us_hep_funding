{
 "cells": [
  {
   "cell_type": "code",
   "execution_count": 3,
   "metadata": {
    "collapsed": false
   },
   "outputs": [],
   "source": [
    "import yaml\n",
    "import pandas as pd"
   ]
  },
  {
   "cell_type": "code",
   "execution_count": 4,
   "metadata": {
    "collapsed": true
   },
   "outputs": [],
   "source": [
    "committees = yaml.load(open('../../congress-legislators/committees-current.yaml'))"
   ]
  },
  {
   "cell_type": "code",
   "execution_count": 93,
   "metadata": {
    "collapsed": false
   },
   "outputs": [
    {
     "name": "stdout",
     "output_type": "stream",
     "text": [
      " 0 HSAG House Committee on Agriculture\n",
      "1 HSAP House Committee on Appropriations\n",
      "2 HSAS House Committee on Armed Services\n",
      "3 HSBA House Committee on Financial Services\n",
      "4 HSBU House Committee on the Budget\n",
      "5 HSED House Committee on Education and the Workforce\n",
      "6 HSFA House Committee on Foreign Affairs\n",
      "7 HSGO House Committee on Oversight and Government Reform\n",
      "8 HSHA House Committee on House Administration\n",
      "9 HSHM House Committee on Homeland Security\n",
      "10 HSIF House Committee on Energy and Commerce\n",
      "11 HSII House Committee on Natural Resources\n",
      "12 HLIG House Permanent Select Committee on Intelligence\n",
      "13 HSJU House Committee on the Judiciary\n",
      "14 HSPW House Committee on Transportation and Infrastructure\n",
      "15 HSRU House Committee on Rules\n",
      "16 HSSM House Committee on Small Business\n",
      "17 HSSO House Committee on Ethics\n",
      "18 HSSY House Committee on Science, Space, and Technology\n",
      "19 HLZI House Select Committee on the Events Surrounding the 2012 Terrorist Attack in Benghazi\n",
      "20 HSVR House Committee on Veterans' Affairs\n",
      "21 HSWM House Committee on Ways and Means\n",
      "22 JCSE Commission on Security and Cooperation in Europe\n",
      "23 JSEC Joint Economic Committee\n",
      "24 JSLC Joint Committee on the Library\n",
      "25 JSPR Joint Committee on Printing\n",
      "26 JSTX Joint Committee on Taxation\n",
      "27 SCNC United States Senate Caucus on International Narcotics Control\n",
      "28 SLET Senate Select Committee on Ethics\n",
      "29 SLIA Senate Committee on Indian Affairs\n",
      "30 SLIN Senate Select Committee on Intelligence\n",
      "31 SPAG Senate Special Committee on Aging\n",
      "32 SSAF Senate Committee on Agriculture, Nutrition, and Forestry\n",
      "33 SSAP Senate Committee on Appropriations\n",
      "34 SSAS Senate Committee on Armed Services\n",
      "35 SSBK Senate Committee on Banking, Housing, and Urban Affairs\n",
      "36 SSBU Senate Committee on the Budget\n",
      "37 SSCM Senate Committee on Commerce, Science, and Transportation\n",
      "38 SSEG Senate Committee on Energy and Natural Resources\n",
      "39 SSEV Senate Committee on Environment and Public Works\n",
      "40 SSFI Senate Committee on Finance\n",
      "41 SSFR Senate Committee on Foreign Relations\n",
      "42 SSGA Senate Committee on Homeland Security and Governmental Affairs\n",
      "43 SSHR Senate Committee on Health, Education, Labor, and Pensions\n",
      "44 SSJU Senate Committee on the Judiciary\n",
      "45 SSRA Senate Committee on Rules and Administration\n",
      "46 SSSB Senate Committee on Small Business and Entrepreneurship\n",
      "47 SSVA Senate Committee on Veterans' Affairs\n"
     ]
    }
   ],
   "source": [
    "for i, comm in enumerate(committees):\n",
    "    print i, comm['thomas_id'], comm['name']"
   ]
  },
  {
   "cell_type": "code",
   "execution_count": 162,
   "metadata": {
    "collapsed": false
   },
   "outputs": [
    {
     "data": {
      "text/plain": [
       "{'address': 'H305 CAPITOL; Washington, DC 20515-6015',\n",
       " 'house_committee_id': 'AP',\n",
       " 'jurisdiction': 'The House Committee on Appropriations is responsible for setting specific expenditures of money by the government of the United States. As such, it is one of the most powerful of the committees, and its members are seen as influential. The bills passed by the committee are called appropriations bills.',\n",
       " 'jurisdiction_source': 'http://en.wikipedia.org/wiki/House_Committee_on_Appropriations',\n",
       " 'minority_rss_url': 'http://democrats.appropriations.house.gov/rss.xml',\n",
       " 'minority_url': 'http://democrats.appropriations.house.gov',\n",
       " 'name': 'House Committee on Appropriations',\n",
       " 'phone': '(202) 225-2771',\n",
       " 'rss_url': 'http://appropriations.house.gov/news/rss.aspx',\n",
       " 'subcommittees': [{'address': '2362A RHOB; Washington, DC 20515',\n",
       "   'name': 'Agriculture, Rural Development, Food and Drug Administration, and Related Agencies',\n",
       "   'phone': '(202) 225-2638',\n",
       "   'thomas_id': '01'},\n",
       "  {'address': 'H310 CAPITOL; Washington, DC 20515',\n",
       "   'name': 'Commerce, Justice, Science, and Related Agencies',\n",
       "   'phone': '(202) 225-3351',\n",
       "   'thomas_id': '19'},\n",
       "  {'address': 'H405 CAPITOL; Washington, DC 20515',\n",
       "   'name': 'Defense',\n",
       "   'phone': '(202) 225-2847',\n",
       "   'thomas_id': '02'},\n",
       "  {'address': '2362B RHOB; Washington, DC 20515',\n",
       "   'name': 'Energy and Water Development, and Related Agencies',\n",
       "   'phone': '(202) 225-3421',\n",
       "   'thomas_id': '10'},\n",
       "  {'address': '2000 RHOB; Washington, DC 20515',\n",
       "   'name': 'Financial Services and General Government',\n",
       "   'phone': '(202) 225-7245',\n",
       "   'thomas_id': '23'},\n",
       "  {'address': '2006 RHOB; Washington, DC 20515',\n",
       "   'name': 'Homeland Security',\n",
       "   'phone': '(202) 225-5834',\n",
       "   'thomas_id': '15'},\n",
       "  {'address': '2007 RHOB; Washington, DC 20515',\n",
       "   'name': 'Interior, Environment, and Related Agencies',\n",
       "   'phone': '(202) 225-3081',\n",
       "   'thomas_id': '06'},\n",
       "  {'address': '2358B RHOB; Washington, DC 20515',\n",
       "   'name': 'Labor, Health and Human Services, Education, and Related Agencies',\n",
       "   'phone': '(202) 225-3508',\n",
       "   'thomas_id': '07'},\n",
       "  {'address': 'HT2 CAPITOL; Washington, DC 20515',\n",
       "   'name': 'Legislative Branch',\n",
       "   'phone': '(202) 226-7252',\n",
       "   'thomas_id': '24'},\n",
       "  {'address': 'HVC227 CAPITOL; Washington, DC 20515',\n",
       "   'name': 'Military Construction, Veterans Affairs, and Related Agencies',\n",
       "   'phone': '(202) 225-3047',\n",
       "   'thomas_id': '18'},\n",
       "  {'address': 'HT2 CAPITOL; Washington, DC 20515',\n",
       "   'name': 'State, Foreign Operations, and Related Programs',\n",
       "   'phone': '(202) 225-2041',\n",
       "   'thomas_id': '04'},\n",
       "  {'address': '2358A RHOB; Washington, DC 20515',\n",
       "   'name': 'Transportation, and Housing and Urban Development, and Related Agencies',\n",
       "   'phone': '(202) 225-2141',\n",
       "   'thomas_id': '20'}],\n",
       " 'thomas_id': 'HSAP',\n",
       " 'type': 'house',\n",
       " 'url': 'http://appropriations.house.gov/'}"
      ]
     },
     "execution_count": 162,
     "metadata": {},
     "output_type": "execute_result"
    }
   ],
   "source": [
    "committees[1]"
   ]
  },
  {
   "cell_type": "code",
   "execution_count": 94,
   "metadata": {
    "collapsed": true
   },
   "outputs": [],
   "source": [
    "members = yaml.load(open('../../congress-legislators/committee-membership-current.yaml'))"
   ]
  },
  {
   "cell_type": "code",
   "execution_count": 183,
   "metadata": {
    "collapsed": false
   },
   "outputs": [],
   "source": [
    "df = pd.DataFrame()\n",
    "# for some reason this dataset doesn't have the memberships for House approps subcommittees...\n",
    "comm_names = {'SSAP16' : 'Senate Appropriations Subcommittee on Commerce, Justice, Science, and Related Agencies',\n",
    "              'SSAP22' : 'Senate Appropriations Subcommittee on Energy and Water Development',\n",
    "              'HSAP'   : 'House Committee on Appropriations',\n",
    "              'HSED13' : 'House Subcommittee on Higher Education and Workforce Development',\n",
    "              'HSED14' : 'House Subcommittee on Early Childhood, Elementary, and Secondary Education',\n",
    "              'SSAP'   : 'Senate Committee on Appropriations',\n",
    "              'HSIF'   : 'House Committee on Energy and Commerce',\n",
    "              'HSSY'   : 'House Committee on Science, Space, and Technology',\n",
    "              'SSCM'   : 'Senate Committee on Commerce, Science, and Transportation',\n",
    "              'SSEG'   : 'Senate Committee on Energy and Natural Resources'}\n",
    "\n",
    "for comm in comm_names.keys():\n",
    "    for mem in members[comm]:\n",
    "        if mem['party'] == 'majority':\n",
    "            party = 'Republican'\n",
    "        else:\n",
    "            party = 'Democrat'\n",
    "        ser = pd.Series([mem['name'],str(mem['rank']),party,comm_names[comm],mem['bioguide']])\n",
    "        df = df.append(ser,ignore_index=True)"
   ]
  },
  {
   "cell_type": "code",
   "execution_count": 184,
   "metadata": {
    "collapsed": false
   },
   "outputs": [],
   "source": [
    "df = df.append(pd.Series(['Mike Simpson', '1', 'Republican', 'House Appropriations Subcommittee on Energy and Water Development','S001148']),ignore_index=True)\n",
    "df = df.append(pd.Series(['Ken Calvert', '2', 'Republican', 'House Appropriations Subcommittee on Energy and Water Development', 'C000059']),ignore_index=True)\n",
    "df = df.append(pd.Series(['Chuck Fleischmann', '3', 'Republican', 'House Appropriations Subcommittee on Energy and Water Development', 'F000459']),ignore_index=True)\n",
    "df = df.append(pd.Series(['Jeff Fortenberry', '4', 'Republican', 'House Appropriations Subcommittee on Energy and Water Development', 'F000449']),ignore_index=True)\n",
    "df = df.append(pd.Series(['Kay Granger', '5', 'Republican', 'House Appropriations Subcommittee on Energy and Water Development', 'G000377']),ignore_index=True)\n",
    "df = df.append(pd.Series(['Jaime Herrera Beutler', '6', 'Republican', 'House Appropriations Subcommittee on Energy and Water Development', 'H001056']),ignore_index=True)\n",
    "df = df.append(pd.Series(['David Joyce', '7', 'Republican', 'House Appropriations Subcommittee on Energy and Water Development', 'J000295']),ignore_index=True)\n",
    "df = df.append(pd.Series(['Dan Newhouse', '8', 'Republican', 'House Appropriations Subcommittee on Energy and Water Development', 'N000189']),ignore_index=True)\n",
    "df = df.append(pd.Series(['Marcy Kaptur', '1', 'Democrat', 'House Appropriations Subcommittee on Energy and Water Development', 'K000009']),ignore_index=True)\n",
    "df = df.append(pd.Series(['Pete Visclosky', '2', 'Democrat', 'House Appropriations Subcommittee on Energy and Water Development', 'V000108']),ignore_index=True)\n",
    "df = df.append(pd.Series(['Debbie Wasserman Schultz', '3', 'Democrat', 'House Appropriations Subcommittee on Energy and Water Development', 'W000797']),ignore_index=True)\n",
    "df = df.append(pd.Series(['Pete Aguilar', '4', 'Democrat', 'House Appropriations Subcommittee on Energy and Water Development', 'A000371']),ignore_index=True)\n",
    "df = df.append(pd.Series(['José Serrano', '5', 'Democrat', 'House Appropriations Subcommittee on Energy and Water Development', 'S000248']),ignore_index=True)\n",
    "df = df.append(pd.Series(['John Culberson', '1', 'Republican', 'House Appropriations Subcommittee on Commerce, Justice, and Science', 'C001048']),ignore_index=True)\n",
    "df = df.append(pd.Series(['Hal Rogers',  '2', 'Republican', 'House Appropriations Subcommittee on Commerce, Justice, and Science', 'R000395']),ignore_index=True)\n",
    "df = df.append(pd.Series(['Robert Aderholt',  '3', 'Republican', 'House Appropriations Subcommittee on Commerce, Justice, and Science', 'A000055']),ignore_index=True)\n",
    "df = df.append(pd.Series(['John Carter',  '4', 'Republican', 'House Appropriations Subcommittee on Commerce, Justice, and Science', 'C001051']),ignore_index=True)\n",
    "df = df.append(pd.Series(['Martha Roby',  '5', 'Republican', 'House Appropriations Subcommittee on Commerce, Justice, and Science', 'R000591']),ignore_index=True)\n",
    "df = df.append(pd.Series(['Steven Palazzo',  '6', 'Republican', 'House Appropriations Subcommittee on Commerce, Justice, and Science', 'P000601']),ignore_index=True)\n",
    "df = df.append(pd.Series(['Evan Jenkins',  '7', 'Republican', 'House Appropriations Subcommittee on Commerce, Justice, and Science', 'J000297']),ignore_index=True)\n",
    "df = df.append(pd.Series(['José Serrano',  '1', 'Democrat', 'House Appropriations Subcommittee on Commerce, Justice, and Science', 'S000248']),ignore_index=True)\n",
    "df = df.append(pd.Series(['Derek Kilmer',  '2', 'Democrat', 'House Appropriations Subcommittee on Commerce, Justice, and Science', 'K000381']),ignore_index=True)\n",
    "df = df.append(pd.Series(['Matt Cartwright', '3', 'Democrat', 'House Appropriations Subcommittee on Commerce, Justice, and Science', 'C001090']),ignore_index=True)\n",
    "df = df.append(pd.Series(['Grace Meng', '4', 'Democrat', 'House Appropriations Subcommittee on Commerce, Justice, and Science', 'M001188']),ignore_index=True)"
   ]
  },
  {
   "cell_type": "code",
   "execution_count": 186,
   "metadata": {
    "collapsed": false
   },
   "outputs": [],
   "source": [
    "df.to_pickle('../cleaned_data/committee_memberships')"
   ]
  },
  {
   "cell_type": "code",
   "execution_count": null,
   "metadata": {
    "collapsed": true
   },
   "outputs": [],
   "source": []
  }
 ],
 "metadata": {
  "kernelspec": {
   "display_name": "Python 2",
   "language": "python",
   "name": "python2"
  },
  "language_info": {
   "codemirror_mode": {
    "name": "ipython",
    "version": 2
   },
   "file_extension": ".py",
   "mimetype": "text/x-python",
   "name": "python",
   "nbconvert_exporter": "python",
   "pygments_lexer": "ipython2",
   "version": "2.7.12"
  }
 },
 "nbformat": 4,
 "nbformat_minor": 0
}
