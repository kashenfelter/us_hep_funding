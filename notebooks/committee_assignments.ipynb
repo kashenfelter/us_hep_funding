{
 "cells": [
  {
   "cell_type": "code",
   "execution_count": 208,
   "metadata": {
    "collapsed": false
   },
   "outputs": [],
   "source": [
    "import yaml\n",
    "import pandas as pd"
   ]
  },
  {
   "cell_type": "code",
   "execution_count": 209,
   "metadata": {
    "collapsed": true
   },
   "outputs": [],
   "source": [
    "committees = yaml.load(open('../../congress-legislators/committees-current.yaml'))"
   ]
  },
  {
   "cell_type": "code",
   "execution_count": 210,
   "metadata": {
    "collapsed": false
   },
   "outputs": [
    {
     "name": "stdout",
     "output_type": "stream",
     "text": [
      "0 HSAG House Committee on Agriculture\n",
      "1 HSAP House Committee on Appropriations\n",
      "2 HSAS House Committee on Armed Services\n",
      "3 HSBA House Committee on Financial Services\n",
      "4 HSBU House Committee on the Budget\n",
      "5 HSED House Committee on Education and the Workforce\n",
      "6 HSFA House Committee on Foreign Affairs\n",
      "7 HSGO House Committee on Oversight and Government Reform\n",
      "8 HSHA House Committee on House Administration\n",
      "9 HSHM House Committee on Homeland Security\n",
      "10 HSIF House Committee on Energy and Commerce\n",
      "11 HSII House Committee on Natural Resources\n",
      "12 HLIG House Permanent Select Committee on Intelligence\n",
      "13 HSJU House Committee on the Judiciary\n",
      "14 HSPW House Committee on Transportation and Infrastructure\n",
      "15 HSRU House Committee on Rules\n",
      "16 HSSM House Committee on Small Business\n",
      "17 HSSO House Committee on Ethics\n",
      "18 HSSY House Committee on Science, Space, and Technology\n",
      "19 HLZI House Select Committee on the Events Surrounding the 2012 Terrorist Attack in Benghazi\n",
      "20 HSVR House Committee on Veterans' Affairs\n",
      "21 HSWM House Committee on Ways and Means\n",
      "22 JCSE Commission on Security and Cooperation in Europe\n",
      "23 JSEC Joint Economic Committee\n",
      "24 JSLC Joint Committee on the Library\n",
      "25 JSPR Joint Committee on Printing\n",
      "26 JSTX Joint Committee on Taxation\n",
      "27 SCNC United States Senate Caucus on International Narcotics Control\n",
      "28 SLET Senate Select Committee on Ethics\n",
      "29 SLIA Senate Committee on Indian Affairs\n",
      "30 SLIN Senate Select Committee on Intelligence\n",
      "31 SPAG Senate Special Committee on Aging\n",
      "32 SSAF Senate Committee on Agriculture, Nutrition, and Forestry\n",
      "33 SSAP Senate Committee on Appropriations\n",
      "34 SSAS Senate Committee on Armed Services\n",
      "35 SSBK Senate Committee on Banking, Housing, and Urban Affairs\n",
      "36 SSBU Senate Committee on the Budget\n",
      "37 SSCM Senate Committee on Commerce, Science, and Transportation\n",
      "38 SSEG Senate Committee on Energy and Natural Resources\n",
      "39 SSEV Senate Committee on Environment and Public Works\n",
      "40 SSFI Senate Committee on Finance\n",
      "41 SSFR Senate Committee on Foreign Relations\n",
      "42 SSGA Senate Committee on Homeland Security and Governmental Affairs\n",
      "43 SSHR Senate Committee on Health, Education, Labor, and Pensions\n",
      "44 SSJU Senate Committee on the Judiciary\n",
      "45 SSRA Senate Committee on Rules and Administration\n",
      "46 SSSB Senate Committee on Small Business and Entrepreneurship\n",
      "47 SSVA Senate Committee on Veterans' Affairs\n"
     ]
    }
   ],
   "source": [
    "for i, comm in enumerate(committees):\n",
    "    print i, comm['thomas_id'], comm['name']"
   ]
  },
  {
   "cell_type": "code",
   "execution_count": 211,
   "metadata": {
    "collapsed": false
   },
   "outputs": [
    {
     "data": {
      "text/plain": [
       "{'address': '2321 RHOB; Washington, DC 20515-6301',\n",
       " 'house_committee_id': 'SY',\n",
       " 'jurisdiction': 'The Committee on Science, Space, and Technology has jurisdiction over energy research, all federally owned or operated non-military energy laboratories, astronautical research and development, civil aviation, environmental research and development, marine research, the National Institute of Standards and Technology, NASA, NSF, NWS, outer space, and other aspects of scientific research.',\n",
       " 'jurisdiction_source': 'http://science.house.gov/jurisdiction',\n",
       " 'minority_rss_url': 'http://democrats.science.house.gov/rss.xml',\n",
       " 'minority_url': 'http://democrats.science.house.gov/',\n",
       " 'name': 'House Committee on Science, Space, and Technology',\n",
       " 'phone': '(202) 225-6371',\n",
       " 'rss_url': 'http://science.house.gov/rss.xml',\n",
       " 'subcommittees': [{'address': '2319 RHOB; Washington, DC 20515',\n",
       "   'name': 'Energy',\n",
       "   'phone': '(202) 225-6371',\n",
       "   'thomas_id': '20'},\n",
       "  {'address': '2321 RHOB; Washington, DC 20515',\n",
       "   'name': 'Oversight',\n",
       "   'phone': '(202) 225-6371',\n",
       "   'thomas_id': '21'},\n",
       "  {'address': '4220 OFOB; Washington, DC 20515',\n",
       "   'name': 'Space',\n",
       "   'phone': '(202) 225-6371',\n",
       "   'thomas_id': '16'},\n",
       "  {'address': '2319 RHOB; Washington, DC 20515',\n",
       "   'name': 'Environment',\n",
       "   'phone': '(202) 225-6371',\n",
       "   'thomas_id': '18'},\n",
       "  {'address': '4220 OFOB; Washington, DC 20515',\n",
       "   'name': 'Research and Technology',\n",
       "   'phone': '(202) 225-6371',\n",
       "   'thomas_id': '15'}],\n",
       " 'thomas_id': 'HSSY',\n",
       " 'type': 'house',\n",
       " 'url': 'http://science.house.gov/'}"
      ]
     },
     "execution_count": 211,
     "metadata": {},
     "output_type": "execute_result"
    }
   ],
   "source": [
    "committees[18]"
   ]
  },
  {
   "cell_type": "code",
   "execution_count": 212,
   "metadata": {
    "collapsed": true
   },
   "outputs": [],
   "source": [
    "members = yaml.load(open('../../congress-legislators/committee-membership-current.yaml'))"
   ]
  },
  {
   "cell_type": "code",
   "execution_count": 213,
   "metadata": {
    "collapsed": false
   },
   "outputs": [
    {
     "data": {
      "text/plain": [
       "[{'bioguide': 'W000814',\n",
       "  'name': 'Randy K. Weber, Sr.',\n",
       "  'party': 'majority',\n",
       "  'rank': 1,\n",
       "  'thomas': '02161',\n",
       "  'title': 'Chair'},\n",
       " {'bioguide': 'R000409',\n",
       "  'name': 'Dana Rohrabacher',\n",
       "  'party': 'majority',\n",
       "  'rank': 2,\n",
       "  'thomas': '00979'},\n",
       " {'bioguide': 'L000491',\n",
       "  'name': 'Frank D. Lucas',\n",
       "  'party': 'majority',\n",
       "  'rank': 3,\n",
       "  'thomas': '00711'},\n",
       " {'bioguide': 'B001274',\n",
       "  'name': 'Mo Brooks',\n",
       "  'party': 'majority',\n",
       "  'rank': 4,\n",
       "  'thomas': '01987'},\n",
       " {'bioguide': 'H001059',\n",
       "  'name': 'Randy Hultgren',\n",
       "  'party': 'majority',\n",
       "  'rank': 5,\n",
       "  'thomas': '02015'},\n",
       " {'bioguide': 'M001184',\n",
       "  'name': 'Thomas Massie',\n",
       "  'party': 'majority',\n",
       "  'rank': 6,\n",
       "  'thomas': '02094'},\n",
       " {'bioguide': 'B001283',\n",
       "  'name': 'Jim Bridenstine',\n",
       "  'party': 'majority',\n",
       "  'rank': 7,\n",
       "  'thomas': '02155'},\n",
       " {'bioguide': 'K000387',\n",
       "  'name': 'Stephen Knight',\n",
       "  'party': 'majority',\n",
       "  'rank': 8,\n",
       "  'thomas': '02228',\n",
       "  'title': 'Vice Chair'},\n",
       " {'bioguide': 'L000585',\n",
       "  'name': 'Darin LaHood',\n",
       "  'party': 'majority',\n",
       "  'rank': 9,\n",
       "  'thomas': '02295'},\n",
       " {'bioguide': 'W000806',\n",
       "  'name': 'Daniel Webster',\n",
       "  'party': 'majority',\n",
       "  'rank': 10,\n",
       "  'thomas': '02002'},\n",
       " {'bioguide': 'D000628',\n",
       "  'name': 'Neal P. Dunn',\n",
       "  'party': 'majority',\n",
       "  'rank': 11},\n",
       " {'bioguide': 'S000583',\n",
       "  'name': 'Lamar Smith',\n",
       "  'party': 'majority',\n",
       "  'rank': 12,\n",
       "  'thomas': '01075',\n",
       "  'title': 'Ex Officio'},\n",
       " {'bioguide': 'V000131',\n",
       "  'name': 'Marc A. Veasey',\n",
       "  'party': 'minority',\n",
       "  'rank': 1,\n",
       "  'thomas': '02166',\n",
       "  'title': 'Ranking Member'},\n",
       " {'bioguide': 'L000397',\n",
       "  'name': 'Zoe Lofgren',\n",
       "  'party': 'minority',\n",
       "  'rank': 2,\n",
       "  'thomas': '00701'},\n",
       " {'bioguide': 'L000563',\n",
       "  'name': 'Daniel Lipinski',\n",
       "  'party': 'minority',\n",
       "  'rank': 3,\n",
       "  'thomas': '01781'},\n",
       " {'bioguide': 'R000608',\n",
       "  'name': 'Jacky Rosen',\n",
       "  'party': 'minority',\n",
       "  'rank': 4},\n",
       " {'bioguide': 'M001166',\n",
       "  'name': 'Jerry McNerney',\n",
       "  'party': 'minority',\n",
       "  'rank': 5,\n",
       "  'thomas': '01832'},\n",
       " {'bioguide': 'T000469',\n",
       "  'name': 'Paul Tonko',\n",
       "  'party': 'minority',\n",
       "  'rank': 6,\n",
       "  'thomas': '01942'},\n",
       " {'bioguide': 'F000454',\n",
       "  'name': 'Bill Foster',\n",
       "  'party': 'minority',\n",
       "  'rank': 7,\n",
       "  'thomas': '01888'},\n",
       " {'bioguide': 'T000472',\n",
       "  'name': 'Mark Takano',\n",
       "  'party': 'minority',\n",
       "  'rank': 8,\n",
       "  'thomas': '02110'},\n",
       " {'bioguide': 'J000126',\n",
       "  'name': 'Eddie Bernice Johnson',\n",
       "  'party': 'minority',\n",
       "  'rank': 9,\n",
       "  'thomas': '00599',\n",
       "  'title': 'Ex Officio'}]"
      ]
     },
     "execution_count": 213,
     "metadata": {},
     "output_type": "execute_result"
    }
   ],
   "source": [
    "members['HSSY20']"
   ]
  },
  {
   "cell_type": "code",
   "execution_count": 214,
   "metadata": {
    "collapsed": false
   },
   "outputs": [],
   "source": [
    "df = pd.DataFrame()\n",
    "# for some reason this dataset doesn't have the memberships for House approps subcommittees...\n",
    "comm_names = {'SSAP16' : 'Senate Appropriations Subcommittee on Commerce, Justice, Science, and Related Agencies',\n",
    "              'SSAP22' : 'Senate Appropriations Subcommittee on Energy and Water Development',\n",
    "              'HSAP'   : 'House Committee on Appropriations',\n",
    "              'HSED13' : 'House Subcommittee on Higher Education and Workforce Development',\n",
    "              'HSED14' : 'House Subcommittee on Early Childhood, Elementary, and Secondary Education',\n",
    "              'SSAP'   : 'Senate Committee on Appropriations',\n",
    "              'HSIF'   : 'House Committee on Energy and Commerce',\n",
    "              'HSSY'   : 'House Committee on Science, Space, and Technology',\n",
    "              'SSCM'   : 'Senate Committee on Commerce, Science, and Transportation',\n",
    "              'SSEG'   : 'Senate Committee on Energy and Natural Resources',\n",
    "              'SSEG01' : 'Senate Energy Subcommittee on Energy',\n",
    "              'SSCM24' : 'Senate Commerce Subcommittee on Science and Space',\n",
    "              'HSSY15' : 'House Committee on Science, Space, and Technology; Subcommittee on Research and Technology',\n",
    "              'HSSY20' : 'House Committee on Science, Space, and Technology; Subcommittee on Energy'}\n",
    "\n",
    "for comm in comm_names.keys():\n",
    "    for mem in members[comm]:\n",
    "        if mem['party'] == 'majority':\n",
    "            party = 'Republican'\n",
    "        else:\n",
    "            party = 'Democrat'\n",
    "        ser = pd.Series([mem['name'],str(mem['rank']),party,comm_names[comm],mem['bioguide']])\n",
    "        df = df.append(ser,ignore_index=True)"
   ]
  },
  {
   "cell_type": "code",
   "execution_count": 215,
   "metadata": {
    "collapsed": false
   },
   "outputs": [],
   "source": [
    "df = df.append(pd.Series(['Mike Simpson', '1', 'Republican', 'House Appropriations Subcommittee on Energy and Water Development','S001148']),ignore_index=True)\n",
    "df = df.append(pd.Series(['Ken Calvert', '2', 'Republican', 'House Appropriations Subcommittee on Energy and Water Development', 'C000059']),ignore_index=True)\n",
    "df = df.append(pd.Series(['Chuck Fleischmann', '3', 'Republican', 'House Appropriations Subcommittee on Energy and Water Development', 'F000459']),ignore_index=True)\n",
    "df = df.append(pd.Series(['Jeff Fortenberry', '4', 'Republican', 'House Appropriations Subcommittee on Energy and Water Development', 'F000449']),ignore_index=True)\n",
    "df = df.append(pd.Series(['Kay Granger', '5', 'Republican', 'House Appropriations Subcommittee on Energy and Water Development', 'G000377']),ignore_index=True)\n",
    "df = df.append(pd.Series(['Jaime Herrera Beutler', '6', 'Republican', 'House Appropriations Subcommittee on Energy and Water Development', 'H001056']),ignore_index=True)\n",
    "df = df.append(pd.Series(['David Joyce', '7', 'Republican', 'House Appropriations Subcommittee on Energy and Water Development', 'J000295']),ignore_index=True)\n",
    "df = df.append(pd.Series(['Dan Newhouse', '8', 'Republican', 'House Appropriations Subcommittee on Energy and Water Development', 'N000189']),ignore_index=True)\n",
    "df = df.append(pd.Series(['Marcy Kaptur', '1', 'Democrat', 'House Appropriations Subcommittee on Energy and Water Development', 'K000009']),ignore_index=True)\n",
    "df = df.append(pd.Series(['Pete Visclosky', '2', 'Democrat', 'House Appropriations Subcommittee on Energy and Water Development', 'V000108']),ignore_index=True)\n",
    "df = df.append(pd.Series(['Debbie Wasserman Schultz', '3', 'Democrat', 'House Appropriations Subcommittee on Energy and Water Development', 'W000797']),ignore_index=True)\n",
    "df = df.append(pd.Series(['Pete Aguilar', '4', 'Democrat', 'House Appropriations Subcommittee on Energy and Water Development', 'A000371']),ignore_index=True)\n",
    "df = df.append(pd.Series(['José Serrano', '5', 'Democrat', 'House Appropriations Subcommittee on Energy and Water Development', 'S000248']),ignore_index=True)\n",
    "df = df.append(pd.Series(['John Culberson', '1', 'Republican', 'House Appropriations Subcommittee on Commerce, Justice, and Science', 'C001048']),ignore_index=True)\n",
    "df = df.append(pd.Series(['Hal Rogers',  '2', 'Republican', 'House Appropriations Subcommittee on Commerce, Justice, and Science', 'R000395']),ignore_index=True)\n",
    "df = df.append(pd.Series(['Robert Aderholt',  '3', 'Republican', 'House Appropriations Subcommittee on Commerce, Justice, and Science', 'A000055']),ignore_index=True)\n",
    "df = df.append(pd.Series(['John Carter',  '4', 'Republican', 'House Appropriations Subcommittee on Commerce, Justice, and Science', 'C001051']),ignore_index=True)\n",
    "df = df.append(pd.Series(['Martha Roby',  '5', 'Republican', 'House Appropriations Subcommittee on Commerce, Justice, and Science', 'R000591']),ignore_index=True)\n",
    "df = df.append(pd.Series(['Steven Palazzo',  '6', 'Republican', 'House Appropriations Subcommittee on Commerce, Justice, and Science', 'P000601']),ignore_index=True)\n",
    "df = df.append(pd.Series(['Evan Jenkins',  '7', 'Republican', 'House Appropriations Subcommittee on Commerce, Justice, and Science', 'J000297']),ignore_index=True)\n",
    "df = df.append(pd.Series(['José Serrano',  '1', 'Democrat', 'House Appropriations Subcommittee on Commerce, Justice, and Science', 'S000248']),ignore_index=True)\n",
    "df = df.append(pd.Series(['Derek Kilmer',  '2', 'Democrat', 'House Appropriations Subcommittee on Commerce, Justice, and Science', 'K000381']),ignore_index=True)\n",
    "df = df.append(pd.Series(['Matt Cartwright', '3', 'Democrat', 'House Appropriations Subcommittee on Commerce, Justice, and Science', 'C001090']),ignore_index=True)\n",
    "df = df.append(pd.Series(['Grace Meng', '4', 'Democrat', 'House Appropriations Subcommittee on Commerce, Justice, and Science', 'M001188']),ignore_index=True)"
   ]
  },
  {
   "cell_type": "code",
   "execution_count": 216,
   "metadata": {
    "collapsed": false
   },
   "outputs": [],
   "source": [
    "df.to_pickle('../cleaned_data/committee_memberships')"
   ]
  },
  {
   "cell_type": "code",
   "execution_count": null,
   "metadata": {
    "collapsed": true
   },
   "outputs": [],
   "source": []
  }
 ],
 "metadata": {
  "kernelspec": {
   "display_name": "Python 2",
   "language": "python",
   "name": "python2"
  },
  "language_info": {
   "codemirror_mode": {
    "name": "ipython",
    "version": 2
   },
   "file_extension": ".py",
   "mimetype": "text/x-python",
   "name": "python",
   "nbconvert_exporter": "python",
   "pygments_lexer": "ipython2",
   "version": "2.7.12"
  }
 },
 "nbformat": 4,
 "nbformat_minor": 0
}
