{
 "cells": [
  {
   "cell_type": "code",
   "execution_count": 2,
   "metadata": {
    "collapsed": false
   },
   "outputs": [],
   "source": [
    "import us"
   ]
  },
  {
   "cell_type": "code",
   "execution_count": 12,
   "metadata": {
    "collapsed": false
   },
   "outputs": [
    {
     "name": "stdout",
     "output_type": "stream",
     "text": [
      "[Alabama]({{ site.baseurl }}/states/AL/)\n",
      "[Alaska]({{ site.baseurl }}/states/AK/)\n",
      "[Arizona]({{ site.baseurl }}/states/AZ/)\n",
      "[Arkansas]({{ site.baseurl }}/states/AR/)\n",
      "[California]({{ site.baseurl }}/states/CA/)\n",
      "[Colorado]({{ site.baseurl }}/states/CO/)\n",
      "[Connecticut]({{ site.baseurl }}/states/CT/)\n",
      "[Delaware]({{ site.baseurl }}/states/DE/)\n",
      "[District of Columbia]({{ site.baseurl }}/states/DC/)\n",
      "[Florida]({{ site.baseurl }}/states/FL/)\n",
      "[Georgia]({{ site.baseurl }}/states/GA/)\n",
      "[Hawaii]({{ site.baseurl }}/states/HI/)\n",
      "[Idaho]({{ site.baseurl }}/states/ID/)\n",
      "[Illinois]({{ site.baseurl }}/states/IL/)\n",
      "[Indiana]({{ site.baseurl }}/states/IN/)\n",
      "[Iowa]({{ site.baseurl }}/states/IA/)\n",
      "[Kansas]({{ site.baseurl }}/states/KS/)\n",
      "[Kentucky]({{ site.baseurl }}/states/KY/)\n",
      "[Louisiana]({{ site.baseurl }}/states/LA/)\n",
      "[Maine]({{ site.baseurl }}/states/ME/)\n",
      "[Maryland]({{ site.baseurl }}/states/MD/)\n",
      "[Massachusetts]({{ site.baseurl }}/states/MA/)\n",
      "[Michigan]({{ site.baseurl }}/states/MI/)\n",
      "[Minnesota]({{ site.baseurl }}/states/MN/)\n",
      "[Mississippi]({{ site.baseurl }}/states/MS/)\n",
      "[Missouri]({{ site.baseurl }}/states/MO/)\n",
      "[Montana]({{ site.baseurl }}/states/MT/)\n",
      "[Nebraska]({{ site.baseurl }}/states/NE/)\n",
      "[Nevada]({{ site.baseurl }}/states/NV/)\n",
      "[New Hampshire]({{ site.baseurl }}/states/NH/)\n",
      "[New Jersey]({{ site.baseurl }}/states/NJ/)\n",
      "[New Mexico]({{ site.baseurl }}/states/NM/)\n",
      "[New York]({{ site.baseurl }}/states/NY/)\n",
      "[North Carolina]({{ site.baseurl }}/states/NC/)\n",
      "[North Dakota]({{ site.baseurl }}/states/ND/)\n",
      "[Ohio]({{ site.baseurl }}/states/OH/)\n",
      "[Oklahoma]({{ site.baseurl }}/states/OK/)\n",
      "[Oregon]({{ site.baseurl }}/states/OR/)\n",
      "[Pennsylvania]({{ site.baseurl }}/states/PA/)\n",
      "[Rhode Island]({{ site.baseurl }}/states/RI/)\n",
      "[South Carolina]({{ site.baseurl }}/states/SC/)\n",
      "[South Dakota]({{ site.baseurl }}/states/SD/)\n",
      "[Tennessee]({{ site.baseurl }}/states/TN/)\n",
      "[Texas]({{ site.baseurl }}/states/TX/)\n",
      "[Utah]({{ site.baseurl }}/states/UT/)\n",
      "[Vermont]({{ site.baseurl }}/states/VT/)\n",
      "[Virginia]({{ site.baseurl }}/states/VA/)\n",
      "[Washington]({{ site.baseurl }}/states/WA/)\n",
      "[West Virginia]({{ site.baseurl }}/states/WV/)\n",
      "[Wisconsin]({{ site.baseurl }}/states/WI/)\n",
      "[Wyoming]({{ site.baseurl }}/states/WY/)\n"
     ]
    }
   ],
   "source": [
    "for state in us.states.STATES:\n",
    "    print '['+state.name+']({{ site.baseurl }}/states/'+state.abbr+'/)'"
   ]
  },
  {
   "cell_type": "code",
   "execution_count": 9,
   "metadata": {
    "collapsed": false
   },
   "outputs": [
    {
     "data": {
      "text/plain": [
       "u'MD'"
      ]
     },
     "execution_count": 9,
     "metadata": {},
     "output_type": "execute_result"
    }
   ],
   "source": [
    "us.states.MD.abbr"
   ]
  },
  {
   "cell_type": "code",
   "execution_count": 7,
   "metadata": {
    "collapsed": true
   },
   "outputs": [],
   "source": [
    "import pandas as pd\n",
    "import numpy as np"
   ]
  },
  {
   "cell_type": "code",
   "execution_count": 24,
   "metadata": {
    "collapsed": true
   },
   "outputs": [],
   "source": [
    "data = pd.read_csv('data/legislators.csv')"
   ]
  },
  {
   "cell_type": "code",
   "execution_count": 25,
   "metadata": {
    "collapsed": false
   },
   "outputs": [],
   "source": [
    "data = data[data['in_office'] == 1]"
   ]
  },
  {
   "cell_type": "code",
   "execution_count": 26,
   "metadata": {
    "collapsed": false
   },
   "outputs": [],
   "source": [
    "fullnames = []\n",
    "for names in zip(data['firstname'], data['lastname']):\n",
    "    fullnames.append(names[0]+' '+names[1])"
   ]
  },
  {
   "cell_type": "code",
   "execution_count": 27,
   "metadata": {
    "collapsed": false
   },
   "outputs": [],
   "source": [
    "fulldist = []\n",
    "for this in zip(data['state'],data['district']):\n",
    "    if len(this[1]) == 2:\n",
    "        fulldist.append(this[0]+'-'+this[1])\n",
    "    if len(this[1]) == 1:\n",
    "        fulldist.append(this[0]+'-0'+this[1])\n",
    "    if len(this[1]) > 2:\n",
    "        fulldist.append(this[0]+'-'+this[0])"
   ]
  },
  {
   "cell_type": "code",
   "execution_count": 44,
   "metadata": {
    "collapsed": false
   },
   "outputs": [],
   "source": [
    "df = pd.DataFrame([fullnames,fulldist,list(data['party']),list(data['state'])])"
   ]
  },
  {
   "cell_type": "code",
   "execution_count": 45,
   "metadata": {
    "collapsed": false
   },
   "outputs": [],
   "source": [
    "df = df.T"
   ]
  },
  {
   "cell_type": "code",
   "execution_count": 40,
   "metadata": {
    "collapsed": false
   },
   "outputs": [],
   "source": []
  },
  {
   "cell_type": "code",
   "execution_count": 46,
   "metadata": {
    "collapsed": false
   },
   "outputs": [],
   "source": [
    "df.to_pickle('legislator_key_info')"
   ]
  },
  {
   "cell_type": "code",
   "execution_count": null,
   "metadata": {
    "collapsed": true
   },
   "outputs": [],
   "source": []
  }
 ],
 "metadata": {
  "kernelspec": {
   "display_name": "Python 2",
   "language": "python",
   "name": "python2"
  },
  "language_info": {
   "codemirror_mode": {
    "name": "ipython",
    "version": 2
   },
   "file_extension": ".py",
   "mimetype": "text/x-python",
   "name": "python",
   "nbconvert_exporter": "python",
   "pygments_lexer": "ipython2",
   "version": "2.7.12"
  }
 },
 "nbformat": 4,
 "nbformat_minor": 0
}
