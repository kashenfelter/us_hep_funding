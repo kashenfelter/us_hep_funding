{
 "cells": [
  {
   "cell_type": "code",
   "execution_count": 4,
   "metadata": {
    "collapsed": true
   },
   "outputs": [],
   "source": [
    "import pandas as pd\n",
    "import numpy as np"
   ]
  },
  {
   "cell_type": "code",
   "execution_count": 6,
   "metadata": {
    "collapsed": false
   },
   "outputs": [],
   "source": [
    "data2014 = pd.read_excel('data/doe_sbir/FY14_PI_R2_Award_List.xlsx')\n",
    "data2015 = pd.read_excel('data/doe_sbir/FY15_PI_R2_Award_List.xlsx')\n",
    "data2016 = pd.read_excel('data/doe_sbir/FY16_PI_R2_Award_List.xlsx')"
   ]
  },
  {
   "cell_type": "code",
   "execution_count": 7,
   "metadata": {
    "collapsed": true
   },
   "outputs": [],
   "source": [
    "fulldata = pd.concat([data2014,data2015,data2016])"
   ]
  },
  {
   "cell_type": "code",
   "execution_count": 9,
   "metadata": {
    "collapsed": false
   },
   "outputs": [
    {
     "data": {
      "text/plain": [
       "431"
      ]
     },
     "execution_count": 9,
     "metadata": {},
     "output_type": "execute_result"
    }
   ],
   "source": [
    "len(fulldata)"
   ]
  },
  {
   "cell_type": "code",
   "execution_count": 10,
   "metadata": {
    "collapsed": false
   },
   "outputs": [
    {
     "data": {
      "text/plain": [
       "Index([u' Amount Requested', u'Address', u'Amount Requested', u'Award',\n",
       "       u'City', u'Company', u'DOE Funding Program', u'PI', u'Project Summary',\n",
       "       u'Project Title', u'SBIR/STTR', u'State', u'State ', u'Summary',\n",
       "       u'Title', u'Topic Number', u'Topic Title', u'Topic Title ',\n",
       "       u'Topic number ', u'Zip', u'Zip Code'],\n",
       "      dtype='object')"
      ]
     },
     "execution_count": 10,
     "metadata": {},
     "output_type": "execute_result"
    }
   ],
   "source": [
    "fulldata.columns"
   ]
  },
  {
   "cell_type": "code",
   "execution_count": 12,
   "metadata": {
    "collapsed": false
   },
   "outputs": [],
   "source": [
    "hepgrants = fulldata[fulldata['DOE Funding Program'] == 'High Energy Physics']"
   ]
  },
  {
   "cell_type": "code",
   "execution_count": 22,
   "metadata": {
    "collapsed": false
   },
   "outputs": [
    {
     "data": {
      "text/plain": [
       "State \n",
       " AZ     149967\n",
       " CA    1204536\n",
       " CO    1058683\n",
       " CT     150000\n",
       " IL     150000\n",
       " KY     149999\n",
       " MA     599673\n",
       " MD     149982\n",
       " MI     150000\n",
       " MN     149898\n",
       " NC     150000\n",
       " NM     150000\n",
       " OH     149856\n",
       " TX     149958\n",
       "Name: Amount Requested, dtype: float64"
      ]
     },
     "execution_count": 22,
     "metadata": {},
     "output_type": "execute_result"
    }
   ],
   "source": [
    "hepgrants.groupby('')['Amount Requested'].sum()"
   ]
  },
  {
   "cell_type": "code",
   "execution_count": null,
   "metadata": {
    "collapsed": true
   },
   "outputs": [],
   "source": []
  }
 ],
 "metadata": {
  "kernelspec": {
   "display_name": "Python 2",
   "language": "python",
   "name": "python2"
  },
  "language_info": {
   "codemirror_mode": {
    "name": "ipython",
    "version": 2
   },
   "file_extension": ".py",
   "mimetype": "text/x-python",
   "name": "python",
   "nbconvert_exporter": "python",
   "pygments_lexer": "ipython2",
   "version": "2.7.12"
  }
 },
 "nbformat": 4,
 "nbformat_minor": 0
}
