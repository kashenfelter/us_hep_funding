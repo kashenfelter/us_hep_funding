{
 "cells": [
  {
   "cell_type": "code",
   "execution_count": 1,
   "metadata": {
    "collapsed": true
   },
   "outputs": [],
   "source": [
    "%matplotlib inline\n",
    "import matplotlib.pyplot as plt\n",
    "import numpy as np\n",
    "import pandas as pd"
   ]
  },
  {
   "cell_type": "code",
   "execution_count": 2,
   "metadata": {
    "collapsed": true
   },
   "outputs": [],
   "source": [
    "data = pd.read_csv('SearchResults (1).csv')"
   ]
  },
  {
   "cell_type": "code",
   "execution_count": 3,
   "metadata": {
    "collapsed": false
   },
   "outputs": [
    {
     "data": {
      "text/plain": [
       "26551"
      ]
     },
     "execution_count": 3,
     "metadata": {},
     "output_type": "execute_result"
    }
   ],
   "source": [
    "len(data)"
   ]
  },
  {
   "cell_type": "code",
   "execution_count": 4,
   "metadata": {
    "collapsed": false
   },
   "outputs": [
    {
     "data": {
      "text/plain": [
       "Index([u'PSC Type', u'Contract ID', u'Modification Number',\n",
       "       u'Transaction Number', u'Award/IDV Type', u'Vendor Name',\n",
       "       u'Contracting Agency ID', u'Contracting Agency', u'Date Signed',\n",
       "       u'Action Obligation ($)', u'Reference IDV', u'Contracting Office Name',\n",
       "       u'NAICS', u'NAICS Description', u'PSC', u'PSC Description',\n",
       "       u'Vendor City', u'Vendor DUNS', u'Vendor State', u'Vendor ZIP Code',\n",
       "       u'Global DUNS Number', u'Global Vendor Name', u'Unnamed: 22'],\n",
       "      dtype='object')"
      ]
     },
     "execution_count": 4,
     "metadata": {},
     "output_type": "execute_result"
    }
   ],
   "source": [
    "from scipy.stats import itemfreq\n",
    "data.columns"
   ]
  },
  {
   "cell_type": "code",
   "execution_count": null,
   "metadata": {
    "collapsed": true
   },
   "outputs": [],
   "source": [
    "data2 = pd.read_csv('./datafeeds\\\\2017_DOE_Contracts_Full_20170215.csv')\n",
    "data3 = pd.read_csv('./datafeeds\\\\2016_DOE_Contracts_Full_20170215 2.csv')\n",
    "data4 = pd.read_csv('./datafeeds\\\\2015_DOE_Contracts_Full_20170215.csv')\n",
    "data5 = pd.read_csv('./datafeeds\\\\2014_DOE_Contracts_Full_20170215.csv')\n",
    "data6 = pd.read_csv('./datafeeds\\\\2013_DOE_Contracts_Full_20170215.csv')\n",
    "data7 = pd.read_csv('./datafeeds\\\\2012_DOE_Contracts_Full_20170215.csv')\n",
    "#data2.columns == data7.columns OK, good"
   ]
  },
  {
   "cell_type": "code",
   "execution_count": 84,
   "metadata": {
    "collapsed": false
   },
   "outputs": [],
   "source": [
    "fulldata = pd.concat([data2,data3,data4,data5,data6,data7])"
   ]
  },
  {
   "cell_type": "code",
   "execution_count": 109,
   "metadata": {
    "collapsed": false
   },
   "outputs": [
    {
     "data": {
      "text/plain": [
       "21              893031: EM-PORTSMOUTH/PADUCAH PROJECT OFC\n",
       "28                      892430: SC CHICAGO SERVICE CENTER\n",
       "46                                    893032: EM-CARLSBAD\n",
       "0       00002: CHICAGO SERVICE CENTER (OFFICE OF SCIENCE)\n",
       "493     00016: PORTSMOUTH/PADUCAH PROJECT OFFICE (EM CBC)\n",
       "538                          00029: CARLSBAD FIELD OFFICE\n",
       "4626                 892430: SE-SC CHICAGO SERVICE CENTER\n",
       "4887                                  893032: MP-CARLSBAD\n",
       "4968            893031: MP-PORTSMOUTH/PADUCAH PROJECT OFC\n",
       "Name: contractingofficeid, dtype: object"
      ]
     },
     "execution_count": 109,
     "metadata": {},
     "output_type": "execute_result"
    }
   ],
   "source": [
    "offices = fulldata['contractingofficeid'].drop_duplicates()\n",
    "offices[offices.str.contains('CA')]"
   ]
  },
  {
   "cell_type": "code",
   "execution_count": 108,
   "metadata": {
    "collapsed": false
   },
   "outputs": [
    {
     "data": {
      "text/plain": [
       "5                                          892401: SCIENCE\n",
       "179                      892430: SC CHICAGO SERVICE CENTER\n",
       "225                            892431: SC OAK RIDGE OFFICE\n",
       "319                                        F2BDCW: ESC FDX\n",
       "0        00002: CHICAGO SERVICE CENTER (OFFICE OF SCIENCE)\n",
       "4              00005: OAK RIDGE OFFICE (OFFICE OF SCIENCE)\n",
       "422                                        F4FDAG: ASC RAF\n",
       "2138               SCDN: DOMESTIC NUCLEAR DETECTION OFFICE\n",
       "2523          SCST: DIRECTORATE FOR SCIENCE AND TECHNOLOGY\n",
       "4626                              892401: SE-SCIENCE FUNDS\n",
       "9478                          HHA106: SOUTHEAST REGION RSC\n",
       "12502              113164: EOP-OFC OF SCIENCE  TECH POLICY\n",
       "489      SCNP: DIRECTORATE FOR NATIONAL PROTECTION AND ...\n",
       "5987                    SCSEC: DHS OFFICE OF THE SECRETARY\n",
       "6050                 F1ATA0: AF OFFICE SCIENTIFIC RESEARCH\n",
       "9297                    NSSC0: NASA SHARED SERVICES CENTER\n",
       "3854                                   F4FFWF: 635 SCOW FM\n",
       "9504                           JSC00: JOHNSON SPACE CENTER\n",
       "2497             SP4701: DES DSCP CONTRACTING SERVICES OFC\n",
       "8049                        SCOH: OFFICE OF HEALTH AFFAIRS\n",
       "236      AGS: DIVISION OF ATMOSPHERIC AND GEOSPACE SCIE...\n",
       "1389              00012: SCHENECTADY NAVAL REACTORS OFFICE\n",
       "2297               SC001: OFFICE OF PROCUREMENT OPERATIONS\n",
       "3124           N0760A: CIVIL ENGINEER CORPS OFFICER SCHOOL\n",
       "4514     SCRIIA: RIIA - OFFICE OF INTELLIGENCE AND ANAL...\n",
       "5921                          SCSECO: DHS OFFICE OF POLICY\n",
       "6213                     N62271: NAVAL POSTGRADUATE SCHOOL\n",
       "13733                      EAR: DIVISION OF EARTH SCIENCES\n",
       "Name: fundingrequestingofficeid, dtype: object"
      ]
     },
     "execution_count": 108,
     "metadata": {},
     "output_type": "execute_result"
    }
   ],
   "source": [
    "offices = fulldata['fundingrequestingofficeid'].drop_duplicates()\n",
    "# print following to search funding offices\n",
    "offices[offices.str.contains('SC')]"
   ]
  },
  {
   "cell_type": "code",
   "execution_count": 88,
   "metadata": {
    "collapsed": false
   },
   "outputs": [],
   "source": [
    "sc_offices = ['00002: CHICAGO SERVICE CENTER (OFFICE OF SCIENCE)',\n",
    "              '00005: OAK RIDGE OFFICE (OFFICE OF SCIENCE)','892431: SC OAK RIDGE OFFICE','892401: SCIENCE',\n",
    "             '892430: SC CHICAGO SERVICE CENTER', '892430: SE-SC CHICAGO SERVICE CENTER', '892401: SE-SCIENCE FUNDS']\n",
    "sc_contracts = fulldata[(fulldata['fundingrequestingofficeid'].isin(sc_offices)) | (fulldata['contractingofficeid'].isin(sc_offices))]\n",
    "byDistrict = sc_contracts.groupby('placeofperformancecongressionaldistrict')"
   ]
  },
  {
   "cell_type": "code",
   "execution_count": 100,
   "metadata": {
    "collapsed": true
   },
   "outputs": [],
   "source": [
    "sc_contracts.to_pickle('./sc_contracts_2012-2017')"
   ]
  },
  {
   "cell_type": "code",
   "execution_count": 93,
   "metadata": {
    "collapsed": true
   },
   "outputs": [],
   "source": [
    "def tell_me_about_district(distcode):\n",
    "    try: \n",
    "        byDistrict.get_group(distcode)\n",
    "    except KeyError: \n",
    "        print 'This district received no SC contracts from 2012-2016'\n",
    "        return\n",
    "    print 'In the past 5 years, this district has received: ', '${:,.2f}'.format(byDistrict.get_group(distcode)['dollarsobligated'].sum())\n",
    "    print byDistrict.get_group(distcode).groupby(['vendorname','fiscal_year']).sum()['dollarsobligated']"
   ]
  },
  {
   "cell_type": "code",
   "execution_count": 99,
   "metadata": {
    "collapsed": false
   },
   "outputs": [
    {
     "name": "stdout",
     "output_type": "stream",
     "text": [
      "This district received no SC contracts from 2012-2016\n"
     ]
    }
   ],
   "source": [
    "tell_me_about_district('TX03')"
   ]
  },
  {
   "cell_type": "code",
   "execution_count": 61,
   "metadata": {
    "collapsed": false
   },
   "outputs": [
    {
     "data": {
      "text/plain": [
       "placeofperformancecongressionaldistrict  vendorname                                                               \n",
       "CA13                                     OUTSOURCE CONSULTING SERVICES, INC.                                         -1.825200e+04\n",
       "                                         THE REGENTS OF THE UNIVERSITY OF CALIFORNIA (1741)                           8.741514e+08\n",
       "CA17                                     NEW TECH SOLUTIONS INCORPORATED                                              1.557622e+04\n",
       "CA18                                     STANFORD UNIVERSITY                                                          5.660364e+08\n",
       "CA44                                     HUMAN POTENTIAL CONSULTANTS, L.L.C.                                          1.349504e+05\n",
       "CA52                                     BLUE TECH INC.                                                               6.388150e+03\n",
       "DC00                                     ALVAREZ & ASSOCIATES, LLC                                                    5.766719e+05\n",
       "                                         AMERICAN ASSOCIATION FOR THE ADVANCEMENT OF SCIENCE                          5.258000e+04\n",
       "                                         AMERICAN SOCIETY FOR MICROBIOLOGY                                            5.274000e+03\n",
       "                                         CAPITAL MEETING PLANNING INC                                                 3.000000e+05\n",
       "                                         CHICKASAW ADVISORY SERVICES, LLC                                            -2.500000e+04\n",
       "                                         CNI GLOBAL SOLUTIONS, LLC                                                    2.320000e+06\n",
       "                                         NATIONAL ACADEMY OF SCIENCES                                                 6.000000e+05\n",
       "                                         NEWSWISE                                                                     3.200000e+04\n",
       "                                         OPTICAL SOCIETY OF AMERICA, INCORPORATED THE                                 1.229000e+04\n",
       "                                         QUALITY SYSTEMS APPLICATIONS INC                                             2.500000e+04\n",
       "                                         WINVALE GROUP, LLC (THE)                                                     2.181839e+04\n",
       "FL22                                     TAYLOR & FRANCIS GROUP, LLC                                                  5.960000e+03\n",
       "GA11                                     SYSCOM TECHNOLOGIES, INC.                                                    0.000000e+00\n",
       "IA04                                     IOWA STATE UNIVERSITY EQUITIES CORPORATION                                   3.309250e+07\n",
       "IL03                                     22ND CENTURY TECHNOLOGIES INC.                                               8.545000e+06\n",
       "                                         AMERICAN ASSOCIATION FOR LAB ACCREDATION (INC)                              -5.400000e-01\n",
       "                                         BLUE TECH INC.                                                               5.475000e+03\n",
       "                                         CNI TECHNICAL SERVICES, LLC                                                  8.154092e+04\n",
       "                                         D & B POWER ASSOCIATES, INC.                                                 5.188000e+03\n",
       "                                         ERI ECONOMIC RESEARCH INSTITUTE                                              5.589000e+03\n",
       "                                         FOUR POINTS TECHNOLOGY, L.L.C.                                              -3.041440e+03\n",
       "                                         GRADUATE SCHOOL                                                             -1.337800e+04\n",
       "                                         H A KING AND ASSOCIATES INCORPORATED (0334)                                  7.977483e+04\n",
       "                                         IRON MOUNTAIN INFORMATION MANAGEMENT, LLC                                    7.000000e+03\n",
       "                                                                                                                          ...     \n",
       "TN03                                     THERMOCOPY OF TENNESSEE, INC.                                               -1.054580e+03\n",
       "                                         THOMSON REUTERS (SCIENTIFIC) LLC                                             6.005324e+04\n",
       "                                         THYSSENKRUPP ELEVATOR CORPORATION (1267)                                     5.708150e+04\n",
       "                                         TITAN PROPANE LLC                                                           -2.994390e+03\n",
       "                                         TOP-TIER TECHNOLOGIES, INC.                                                  7.380000e+03\n",
       "                                         TOWER SERVICES, INC                                                          2.395000e+03\n",
       "                                         TRIBALCO, LLC                                                                1.829376e+05\n",
       "                                         UNION CARBIDE CORP                                                           0.000000e+00\n",
       "                                         UNITED PARCEL SERVICE INCORPORATED (OH) (2075)                              -8.148000e+01\n",
       "                                         URS                                                                          2.667273e+08\n",
       "                                         UT BATTELLE LIMITED LIABILITY COMPANY                                        1.337169e+09\n",
       "                                         VERISURF SOFTWARE INC                                                        0.000000e+00\n",
       "                                         VIDEOLINK, INC.                                                              0.000000e+00\n",
       "                                         W. W. GRAINGER, INC.                                                         0.000000e+00\n",
       "                                         WASTREN ADVANTAGE, INC.                                                      8.000000e+06\n",
       "                                         WEST PUBLISHING CORPORATION                                                  1.026486e+04\n",
       "                                         WM. S. TRIMBLE CO. INC.                                                      8.420000e+03\n",
       "                                         WOLTERS KLUWER FINANCIAL SERVICES, INC.                                      2.097600e+04\n",
       "                                         XEROX CORPORATION                                                           -3.837600e+02\n",
       "                                         ZIBIZ CORPORATION                                                            0.000000e+00\n",
       "TX28                                     ALLIED ASSOCIATES COMMERCIAL FLOORS, INC                                     1.496316e+04\n",
       "VA02                                     JEFFERSON SCIENCE ASSOCIATES LIMITED LIABILITY COMPANY A SURA/CSC COMPANY    1.236434e+08\n",
       "VA08                                     BRUNDIDGE & STANGER PC                                                       0.000000e+00\n",
       "                                         DELOITTE CONSULTING LLP                                                      5.000000e+03\n",
       "                                         JDM ASSOCIATES, LLC                                                          2.416521e+04\n",
       "                                         NATIONAL CAPITOL CONTRACTING, LLC                                            4.750000e+05\n",
       "VA11                                     ORACLE AMERICA, INC.                                                         0.000000e+00\n",
       "WA04                                     BATTELLE MEMORIAL INSTITUTE                                                  9.639466e+08\n",
       "                                         CH2M HILL PLATEAU REMEDIATION COMPANY                                        3.125700e+04\n",
       "WI02                                     AMERICAN SOCIETY OF AGRONOMY, INC.                                           3.990000e+03\n",
       "Name: dollarsobligated, dtype: float64"
      ]
     },
     "execution_count": 61,
     "metadata": {},
     "output_type": "execute_result"
    }
   ],
   "source": [
    "sc_contracts.groupby(['placeofperformancecongressionaldistrict','vendorname']).sum()['dollarsobligated']"
   ]
  },
  {
   "cell_type": "code",
   "execution_count": 6,
   "metadata": {
    "collapsed": false
   },
   "outputs": [
    {
     "name": "stderr",
     "output_type": "stream",
     "text": [
      "/Users/mbaumer/anaconda2/lib/python2.7/site-packages/numpy/lib/arraysetops.py:200: FutureWarning: numpy not_equal will not check object identity in the future. The comparison did not return the same result as suggested by the identity (`is`)) and will change.\n",
      "  flag = np.concatenate(([True], aux[1:] != aux[:-1]))\n"
     ]
    },
    {
     "data": {
      "text/plain": [
       "array([nan, '8900-14', 'ADVANCED RSRCH PROJ AGENCY ARPA-E',\n",
       "       'ALASKA POWER ADMINISTRATION', 'ALBUQUERQUE OPERATIONS OFFICE',\n",
       "       'BARTLESVILLE PROJECT OFFICE', 'BONNEVILLE POWER ADMINISTRATION',\n",
       "       'CARLSBAD FIELD OFFICE',\n",
       "       'CHICAGO SERVICE CENTER (OFFICE OF SCIENCE)',\n",
       "       'CLINCH RIVER BREEDER REACTOR PROJECT', 'EM-CARLSBAD',\n",
       "       'EM-ENVIRONMENTAL MGMT CON BUS CTR',\n",
       "       'ENVIRONMENTAL MEASUREMENTS LAB',\n",
       "       'FEDERAL ENERGY REGULATORY COMMISSION', 'GOLDEN FIELD OFFICE',\n",
       "       'GRAND FORKS PROJECT OFFICE', 'HEADQUARTERS PROCUREMENT SERVICES',\n",
       "       'IDAHO OPERATIONS OFFICE', 'LARAMIE PROJECT OFFICE',\n",
       "       'LAS VEGAS SATELLITE OFFICE (LVSO)', 'LIVERMORE SITE OFFICE',\n",
       "       'LOS ALAMOS SITE OFFICE', 'MORGANTOWN ENERGY TECHNOLOGY CENTER',\n",
       "       'NATIONAL ENERGY TECHNOLOGY CENTER',\n",
       "       'NATIONAL ENERGY TECHNOLOGY LAB',\n",
       "       'NATIONAL NUCLEAR SECURITY ADMINISTRATION',\n",
       "       'NATIONAL NUCLEAR SECURITY ADMINISTRATION HEADQUARTERS',\n",
       "       'NATIONAL NUCLEAR SECURITY ADMN BUSINESS SVCS DIVISION',\n",
       "       'NAVAL REACTORS LABORATORY FIELD OFFICE',\n",
       "       'NEVADA OPERATIONS OFFICE', 'NNSA MO CONTRACTING',\n",
       "       'NNSA NAVAL REACTORS LAB FLD OFFICE',\n",
       "       'NNSA NON-MO CNTRCTNG OPS DIV',\n",
       "       'OAK RIDGE OFFICE (OFFICE OF SCIENCE)',\n",
       "       'OAK RIDGE SITE OFFICE (NNSA)', 'OAKLAND OPERATIONS OFFICE',\n",
       "       'OFFICE OF CIVILIAN RADIOACTIVE WASTE MGMT',\n",
       "       'OFFICE OF ENVIRONMENTAL MANAGEMENT CONSOLIDATED BUSINESS CENTER',\n",
       "       'OFFICE OF RIVER PROTECTION', 'OHIO FIELD OFFICE (EM CBC)',\n",
       "       'PANTEX SITE OFFICE', 'PITTSBURGH ENERGY TECHNOLOGY CENTER',\n",
       "       'PORTSMOUTH/PADUCAH PROJECT OFFICE (EM CBC)',\n",
       "       'RICHLAND OPERATIONS OFFICE', 'ROCKY FLATS OFFICE (EM CBC)',\n",
       "       'SALT REPOSITORY PROJECT OFFICE', 'SAN FRANCISCO SUPPORT OFFICE',\n",
       "       'SAVANNAH RIVER OPERATIONS OFFICE', 'SC CHICAGO SERVICE CENTER',\n",
       "       'SC OAK RIDGE OFFICE', 'SCHENECTADY NAVAL REACTORS OFFICE',\n",
       "       'SOUTHEASTERN POWER ADMINISTRATION',\n",
       "       'SOUTHWESTERN POWER ADMINISTRATION', 'STRATEGIC PETROLEUM RESERVE',\n",
       "       'STRATEGIC PETROLEUM RESERVE PROJECT MGMT',\n",
       "       'WESTERN REGIONAL OFFICE', 'WESTERN-CORPORATE SERVICES OFFICE',\n",
       "       'WESTERN-DESERT SOUTHWEST REGION', 'WESTERN-ROCKY MOUNTAIN REGION',\n",
       "       'WESTERN-SIERRA NEVADA REGION', 'WESTERN-UPPER GREAT PLAINS REGION',\n",
       "       'WESTERN-UPPPER GREAT PLAINS REGION'], dtype=object)"
      ]
     },
     "execution_count": 6,
     "metadata": {},
     "output_type": "execute_result"
    }
   ],
   "source": [
    "np.unique(data['Contracting Office Name'])"
   ]
  },
  {
   "cell_type": "code",
   "execution_count": null,
   "metadata": {
    "collapsed": true
   },
   "outputs": [],
   "source": []
  }
 ],
 "metadata": {
  "kernelspec": {
   "display_name": "Python 2",
   "language": "python",
   "name": "python2"
  },
  "language_info": {
   "codemirror_mode": {
    "name": "ipython",
    "version": 2
   },
   "file_extension": ".py",
   "mimetype": "text/x-python",
   "name": "python",
   "nbconvert_exporter": "python",
   "pygments_lexer": "ipython2",
   "version": "2.7.12"
  }
 },
 "nbformat": 4,
 "nbformat_minor": 0
}
